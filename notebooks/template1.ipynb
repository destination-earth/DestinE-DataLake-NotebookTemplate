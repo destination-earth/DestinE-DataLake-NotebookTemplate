{
 "cells": [
  {
   "cell_type": "markdown",
   "id": "2ab97826",
   "metadata": {},
   "source": [
    "---\n",
    "title: \"Template 1\"\n",
    "subtitle : \"Brief description of the notebook.\"\n",
    "author: \"Author: template\"\n",
    "tags: [STACK, Template]\n",
    "thumbnail: img/EUMETSAT_TEST.png \n",
    "license: MIT\n",
    "copyright: \"© 2024 EUMETSAT\"\n",
    "---\n",
    "\n",
    "<!-- Optional: Add a JupyterHub launch link here. If you don’t have one, you can remove this block. -->\n",
    "\n",
    "<div style=\"margin: 6px 0;\">\n",
    "  <a href=\"https://jupyter.central.data.destination-earth.eu/user-redirect/lab/tree/template1.ipynb\" target=\"_blank\" style=\"text-decoration: none;\">\n",
    "    <span class=\"launch\">🚀 Launch in JupyterHub</span>\n",
    "  </a>\n",
    "</div>\n"
   ]
  },
  {
   "cell_type": "markdown",
   "id": "e7ec495d",
   "metadata": {},
   "source": [
    "## Notebook Name\n",
    "\n",
    "<!-- Briefly describe the purpose of this notebook. -->\n",
    "Description of what the notebook does, how it works, and any prerequisites or steps to take before running the code.\n",
    "\n",
    "### Contents\n",
    "- **Objective:** What is the main goal of this notebook?\n",
    "- **Data Sources:** Where the data comes from (links if applicable).\n",
    "- **Methods:** Briefly outline the approach or algorithms used.\n",
    "- **Prerequisites:** Any installations, credentials, or setup needed.\n",
    "- **Expected Output:** What the user can expect at the end (plots, tables, files, etc.)."
   ]
  },
  {
   "cell_type": "markdown",
   "id": "c30b6d5b-733c-4f41-8fbd-c7ea0a8bd380",
   "metadata": {},
   "source": [
    "We can again showcase the execution of standard Python functions on the remote clusters.\n",
    "In the following we will make use of `dask.futures`, non-blocking distributed calculations, utilising the `map()` method for task distribution. Detailed information about `dask.futures` can be found on the [Dask documention](https://docs.dask.org/en/stable/futures.html).\n",
    "\n",
    "This approach allows for embarrassingly parallel task scheduling, which is very similar to Function as a Service capabilities.\n",
    "\n",
    "<img src=\"https://docs.dask.org/en/latest/_images/map-reduce-task-scheduling.svg\">"
   ]
  }
 ],
 "metadata": {
  "kernelspec": {
   "display_name": "Python DEDL",
   "language": "python",
   "name": "python_dedl"
  },
  "language_info": {
   "codemirror_mode": {
    "name": "ipython",
    "version": 3
   },
   "file_extension": ".py",
   "mimetype": "text/x-python",
   "name": "python",
   "nbconvert_exporter": "python",
   "pygments_lexer": "ipython3",
   "version": "3.11.4"
  }
 },
 "nbformat": 4,
 "nbformat_minor": 5
}
