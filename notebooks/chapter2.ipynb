{
 "cells": [
  {
   "cell_type": "markdown",
   "id": "9ed374f3",
   "metadata": {},
   "source": [
    "---\n",
    "title: \"Notebook Title\"\n",
    "author: \"Author: Your Name\"\n",
    "tags: [test]\n",
    "license: MIT\n",
    "copyright: \"© 2024\"\n",
    "---\n"
   ]
  },
  {
   "cell_type": "code",
   "execution_count": 1,
   "id": "b54744e3",
   "metadata": {},
   "outputs": [
    {
     "name": "stdout",
     "output_type": "stream",
     "text": [
      "10.283662185463227\n"
     ]
    }
   ],
   "source": [
    "import numpy\n",
    "\n",
    "random = 10\n",
    "\n",
    "a = numpy.cos(5)\n",
    "\n",
    "print(random + a)"
   ]
  },
  {
   "cell_type": "markdown",
   "id": "68112013",
   "metadata": {},
   "source": [
    "**License:** MIT <br>\n",
    "**Copyright:** © 2024  <br>"
   ]
  }
 ],
 "metadata": {
  "kernelspec": {
   "display_name": "Python 3",
   "language": "python",
   "name": "python3"
  },
  "language_info": {
   "codemirror_mode": {
    "name": "ipython",
    "version": 3
   },
   "file_extension": ".py",
   "mimetype": "text/x-python",
   "name": "python",
   "nbconvert_exporter": "python",
   "pygments_lexer": "ipython3",
   "version": "3.10.12"
  }
 },
 "nbformat": 4,
 "nbformat_minor": 5
}
