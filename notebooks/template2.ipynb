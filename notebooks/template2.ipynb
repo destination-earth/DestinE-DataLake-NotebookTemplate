{
 "cells": [
  {
   "cell_type": "markdown",
   "id": "15065fef-8249-48dc-9567-89943cd0c478",
   "metadata": {},
   "source": [
    "---\n",
    "title: \"Template 2\"\n",
    "subtitle: \"Brief description of the notebook.\"\n",
    "author: \"Author: template\"\n",
    "tags: [Template]\n",
    "thumbnail: img/hda_TEST.png\n",
    "license: MIT\n",
    "copyright: \"© 2024 EUMETSAT\"\n",
    "---\n",
    "\n",
    "<!-- Optional: Add a JupyterHub launch link here. If you don’t have one, you can remove this block. -->\n",
    "\n",
    "<div style=\"margin: 6px 0;\">\n",
    "  <a href=\"https://jupyter.central.data.destination-earth.eu/user-redirect/lab/tree/template2.ipynb\" target=\"_blank\" style=\"text-decoration: none;\">\n",
    "    <span class=\"launch\">🚀 Launch in JupyterHub</span>\n",
    "  </a>\n",
    "</div>"
   ]
  },
  {
   "cell_type": "markdown",
   "id": "86cdfa3b-3e26-4bf0-8b02-b2edc4a2d371",
   "metadata": {
    "tags": []
   },
   "source": [
    "## Notebook Name\n",
    "\n",
    "<!-- Briefly describe the purpose of this notebook. -->\n",
    "Description of what the notebook does, how it works, and any prerequisites or steps to take before running the code.\n",
    "\n",
    "### Contents\n",
    "- **Objective:** What is the main goal of this notebook?\n",
    "- **Data Sources:** Where the data comes from (links if applicable).\n",
    "- **Methods:** Briefly outline the approach or algorithms used.\n",
    "- **Prerequisites:** Any installations, credentials, or setup needed.\n",
    "- **Expected Output:** What the user can expect at the end (plots, tables, files, etc.).\n"
   ]
  },
  {
   "cell_type": "code",
   "execution_count": null,
   "id": "6fed642a",
   "metadata": {},
   "outputs": [],
   "source": [
    "from dedl_stack_client.authn import DaskOIDC\n",
    "from dedl_stack_client.dask import DaskMultiCluster\n",
    "from rich.prompt import Prompt\n",
    "\n",
    "myAuth = DaskOIDC(username=Prompt.ask(prompt=\"Username\"))\n",
    "myDEDLClusters = DaskMultiCluster(auth=myAuth)\n",
    "myDEDLClusters.new_cluster()"
   ]
  },
  {
   "cell_type": "markdown",
   "id": "83fb880b",
   "metadata": {},
   "source": [
    "Print the given client object details per location as well as the link to the Dask dashboard."
   ]
  },
  {
   "cell_type": "code",
   "execution_count": null,
   "id": "b464d949-d54a-49b0-ac78-68724260d975",
   "metadata": {
    "tags": []
   },
   "outputs": [],
   "source": [
    "with myDEDLClusters.as_current(location=\"central\") as myclient:\n",
    "    print(myclient)\n",
    "    print(myclient.dashboard_link)\n",
    "with myDEDLClusters.as_current(location=\"lumi\") as myclient:\n",
    "    print(myclient)\n",
    "    print(myclient.dashboard_link)"
   ]
  },
  {
   "cell_type": "markdown",
   "id": "8cdfd85e-5601-41f9-9ce9-6b6dbf2dc9b7",
   "metadata": {},
   "source": [
    "### Shutdown the all clusters and free up all resources"
   ]
  }
 ],
 "metadata": {
  "kernelspec": {
   "display_name": "dedl",
   "language": "python",
   "name": "python3"
  },
  "language_info": {
   "codemirror_mode": {
    "name": "ipython",
    "version": 3
   },
   "file_extension": ".py",
   "mimetype": "text/x-python",
   "name": "python",
   "nbconvert_exporter": "python",
   "pygments_lexer": "ipython3",
   "version": "3.11.3"
  }
 },
 "nbformat": 4,
 "nbformat_minor": 5
}
