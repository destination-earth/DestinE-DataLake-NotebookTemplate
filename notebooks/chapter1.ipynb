{
 "cells": [
  {
   "cell_type": "markdown",
   "id": "4480f081",
   "metadata": {},
   "source": [
    "---\n",
    "title: \"Notebook Title\"\n",
    "author: \"Author: Your Name\"\n",
    "tags: [test]\n",
    "license: MIT\n",
    "copyright: \"© 2024\"\n",
    "---\n"
   ]
  },
  {
   "cell_type": "code",
   "execution_count": null,
   "id": "e16db82b",
   "metadata": {},
   "outputs": [
    {
     "name": "stdout",
     "output_type": "stream",
     "text": [
      "9.041075725336862\n"
     ]
    }
   ],
   "source": [
    "import numpy\n",
    "\n",
    "a = 10\n",
    "b = 5\n",
    "c = a + numpy.sin(b)\n",
    "\n",
    "print(c)"
   ]
  },
  {
   "cell_type": "markdown",
   "id": "90605000",
   "metadata": {},
   "source": [
    "**License:** MIT <br>\n",
    "**Copyright:** © 2024  <br>"
   ]
  }
 ],
 "metadata": {
  "kernelspec": {
   "display_name": "Python 3",
   "language": "python",
   "name": "python3"
  },
  "language_info": {
   "codemirror_mode": {
    "name": "ipython",
    "version": 3
   },
   "file_extension": ".py",
   "mimetype": "text/x-python",
   "name": "python",
   "nbconvert_exporter": "python",
   "pygments_lexer": "ipython3",
   "version": "3.10.12"
  }
 },
 "nbformat": 4,
 "nbformat_minor": 5
}
